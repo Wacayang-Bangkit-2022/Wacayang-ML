{
  "nbformat": 4,
  "nbformat_minor": 0,
  "metadata": {
    "colab": {
      "name": "Baseline Model.ipynb",
      "provenance": [],
      "collapsed_sections": []
    },
    "kernelspec": {
      "name": "python3",
      "display_name": "Python 3"
    },
    "language_info": {
      "name": "python"
    },
    "accelerator": "GPU"
  },
  "cells": [
    {
      "cell_type": "code",
      "source": [
        "! pip install kaggle\n",
        "! mkdir ~/.kaggle\n",
        "! cp kaggle.json ~/.kaggle/\n",
        "! chmod 600 ~/.kaggle/kaggle.json"
      ],
      "metadata": {
        "colab": {
          "base_uri": "https://localhost:8080/"
        },
        "id": "Zlt0-vXtoA64",
        "outputId": "ffe5873d-7422-49f2-fb4e-0c2609712db0"
      },
      "execution_count": 1,
      "outputs": [
        {
          "output_type": "stream",
          "name": "stdout",
          "text": [
            "Requirement already satisfied: kaggle in /usr/local/lib/python3.7/dist-packages (1.5.12)\n",
            "Requirement already satisfied: python-dateutil in /usr/local/lib/python3.7/dist-packages (from kaggle) (2.8.2)\n",
            "Requirement already satisfied: tqdm in /usr/local/lib/python3.7/dist-packages (from kaggle) (4.64.0)\n",
            "Requirement already satisfied: requests in /usr/local/lib/python3.7/dist-packages (from kaggle) (2.23.0)\n",
            "Requirement already satisfied: six>=1.10 in /usr/local/lib/python3.7/dist-packages (from kaggle) (1.15.0)\n",
            "Requirement already satisfied: python-slugify in /usr/local/lib/python3.7/dist-packages (from kaggle) (6.1.2)\n",
            "Requirement already satisfied: certifi in /usr/local/lib/python3.7/dist-packages (from kaggle) (2021.10.8)\n",
            "Requirement already satisfied: urllib3 in /usr/local/lib/python3.7/dist-packages (from kaggle) (1.24.3)\n",
            "Requirement already satisfied: text-unidecode>=1.3 in /usr/local/lib/python3.7/dist-packages (from python-slugify->kaggle) (1.3)\n",
            "Requirement already satisfied: chardet<4,>=3.0.2 in /usr/local/lib/python3.7/dist-packages (from requests->kaggle) (3.0.4)\n",
            "Requirement already satisfied: idna<3,>=2.5 in /usr/local/lib/python3.7/dist-packages (from requests->kaggle) (2.10)\n"
          ]
        }
      ]
    },
    {
      "cell_type": "code",
      "source": [
        "! kaggle datasets download bayuokta/wayang-bagong-cepot-gareng-petruk-semar"
      ],
      "metadata": {
        "colab": {
          "base_uri": "https://localhost:8080/"
        },
        "id": "yssx0WTyo7tk",
        "outputId": "a397377f-87e6-4af8-8de0-0f273c7f428a"
      },
      "execution_count": 2,
      "outputs": [
        {
          "output_type": "stream",
          "name": "stdout",
          "text": [
            "Downloading wayang-bagong-cepot-gareng-petruk-semar.zip to /content\n",
            " 87% 39.0M/44.9M [00:03<00:00, 13.7MB/s]\n",
            "100% 44.9M/44.9M [00:03<00:00, 15.2MB/s]\n"
          ]
        }
      ]
    },
    {
      "cell_type": "code",
      "source": [
        "! unzip -qq wayang-bagong-cepot-gareng-petruk-semar.zip"
      ],
      "metadata": {
        "id": "7H1_4xqQpagv"
      },
      "execution_count": 3,
      "outputs": []
    },
    {
      "cell_type": "code",
      "source": [
        "import keras\n",
        "from keras.models import Sequential\n",
        "from keras.layers import Conv2D\n",
        "from keras.layers import MaxPooling2D\n",
        "from keras.layers import Flatten\n",
        "from keras.layers import Dense\n",
        "from keras.layers import BatchNormalization\n",
        "from keras.layers import Dropout\n",
        "from tensorflow.keras.preprocessing.image import ImageDataGenerator, load_img\n",
        "from sklearn.metrics import classification_report, confusion_matrix\n",
        "import numpy as np\n",
        "import matplotlib.pyplot as plt\n",
        "import os\n",
        "from PIL import Image"
      ],
      "metadata": {
        "id": "0YvUkyzkppR5"
      },
      "execution_count": 4,
      "outputs": []
    },
    {
      "cell_type": "code",
      "source": [
        "data_dir = \"images\"\n",
        "train_dir= \"images/train/\"\n",
        "val_dir = \"images/val/\"\n",
        "test_dir = \"images/test/\""
      ],
      "metadata": {
        "id": "838WDSM0pwI0"
      },
      "execution_count": 5,
      "outputs": []
    },
    {
      "cell_type": "code",
      "source": [
        "train_datagen = ImageDataGenerator(rescale = 1./255,\n",
        "                                   shear_range = 0.2,\n",
        "                                   zoom_range = 0.2,\n",
        "                                   horizontal_flip = True,\n",
        "                                   vertical_flip=True,\n",
        "                                   width_shift_range=0.1,\n",
        "                                   height_shift_range=0.1,\n",
        "                                   rotation_range=10)\n",
        "\n",
        "test_datagen = ImageDataGenerator(rescale = 1./255)  #Image normalization.\n",
        "\n",
        "training_set = train_datagen.flow_from_directory(train_dir,\n",
        "                                                 target_size = (300, 300),\n",
        "                                                 batch_size = 32,\n",
        "                                                 class_mode = 'categorical')\n",
        "\n",
        "validation_generator = test_datagen.flow_from_directory(val_dir,\n",
        "    target_size=(300, 300),\n",
        "    batch_size=32,\n",
        "    class_mode='categorical')"
      ],
      "metadata": {
        "colab": {
          "base_uri": "https://localhost:8080/"
        },
        "id": "TKlpQ4S3qHvV",
        "outputId": "0d8d06c7-b544-454d-cb03-1363384c130d"
      },
      "execution_count": 6,
      "outputs": [
        {
          "output_type": "stream",
          "name": "stdout",
          "text": [
            "Found 1350 images belonging to 5 classes.\n",
            "Found 150 images belonging to 5 classes.\n"
          ]
        }
      ]
    },
    {
      "cell_type": "code",
      "source": [
        "model = Sequential()\n",
        "\n",
        "\n",
        "model.add(Conv2D(16, (3, 3), activation=\"relu\", input_shape=(300, 300, 3)))\n",
        "model.add(MaxPooling2D(pool_size = (2, 2)))\n",
        "\n",
        "model.add(Conv2D(16, (3, 3), activation=\"relu\"))\n",
        "model.add(MaxPooling2D(pool_size = (2, 2)))\n",
        "\n",
        "\n",
        "model.add(Conv2D(32, (3, 3), activation=\"relu\"))\n",
        "model.add(MaxPooling2D(pool_size = (2, 2)))\n",
        "\n",
        "model.add(Conv2D(32, (3, 3), activation=\"relu\"))\n",
        "model.add(MaxPooling2D(pool_size = (2, 2)))\n",
        "\n",
        "model.add(Conv2D(64, (3, 3), activation=\"relu\"))\n",
        "model.add(MaxPooling2D(pool_size = (2, 2)))\n",
        "\n",
        "\n",
        "model.add(BatchNormalization())\n",
        "model.add(Flatten())\n",
        "\n",
        "model.add(Dense(activation = 'relu', units = 256))\n",
        "model.add(Dense(activation = 'relu', units = 128))\n",
        "model.add(Dense(activation = 'softmax', units = 5))\n",
        "\n",
        "# Compile the Neural network\n",
        "model.compile(optimizer = 'adam', loss = 'categorical_crossentropy', metrics = ['accuracy'])"
      ],
      "metadata": {
        "id": "toyVFkV7q7_q"
      },
      "execution_count": 7,
      "outputs": []
    },
    {
      "cell_type": "code",
      "source": [
        "model.summary()"
      ],
      "metadata": {
        "colab": {
          "base_uri": "https://localhost:8080/"
        },
        "id": "blPYXn3WrYg9",
        "outputId": "6f8dc37b-22d1-4ee2-c94f-dfd0c923e1f5"
      },
      "execution_count": 8,
      "outputs": [
        {
          "output_type": "stream",
          "name": "stdout",
          "text": [
            "Model: \"sequential\"\n",
            "_________________________________________________________________\n",
            " Layer (type)                Output Shape              Param #   \n",
            "=================================================================\n",
            " conv2d (Conv2D)             (None, 298, 298, 16)      448       \n",
            "                                                                 \n",
            " max_pooling2d (MaxPooling2D  (None, 149, 149, 16)     0         \n",
            " )                                                               \n",
            "                                                                 \n",
            " conv2d_1 (Conv2D)           (None, 147, 147, 16)      2320      \n",
            "                                                                 \n",
            " max_pooling2d_1 (MaxPooling  (None, 73, 73, 16)       0         \n",
            " 2D)                                                             \n",
            "                                                                 \n",
            " conv2d_2 (Conv2D)           (None, 71, 71, 32)        4640      \n",
            "                                                                 \n",
            " max_pooling2d_2 (MaxPooling  (None, 35, 35, 32)       0         \n",
            " 2D)                                                             \n",
            "                                                                 \n",
            " conv2d_3 (Conv2D)           (None, 33, 33, 32)        9248      \n",
            "                                                                 \n",
            " max_pooling2d_3 (MaxPooling  (None, 16, 16, 32)       0         \n",
            " 2D)                                                             \n",
            "                                                                 \n",
            " conv2d_4 (Conv2D)           (None, 14, 14, 64)        18496     \n",
            "                                                                 \n",
            " max_pooling2d_4 (MaxPooling  (None, 7, 7, 64)         0         \n",
            " 2D)                                                             \n",
            "                                                                 \n",
            " batch_normalization (BatchN  (None, 7, 7, 64)         256       \n",
            " ormalization)                                                   \n",
            "                                                                 \n",
            " flatten (Flatten)           (None, 3136)              0         \n",
            "                                                                 \n",
            " dense (Dense)               (None, 256)               803072    \n",
            "                                                                 \n",
            " dense_1 (Dense)             (None, 128)               32896     \n",
            "                                                                 \n",
            " dense_2 (Dense)             (None, 5)                 645       \n",
            "                                                                 \n",
            "=================================================================\n",
            "Total params: 872,021\n",
            "Trainable params: 871,893\n",
            "Non-trainable params: 128\n",
            "_________________________________________________________________\n"
          ]
        }
      ]
    },
    {
      "cell_type": "code",
      "source": [
        "history = model.fit(training_set,\n",
        "                     epochs = 30,\n",
        "                     validation_data = validation_generator)"
      ],
      "metadata": {
        "colab": {
          "base_uri": "https://localhost:8080/"
        },
        "id": "VFR38F5vrc48",
        "outputId": "57b5b373-d11f-4994-f939-199441d7231f"
      },
      "execution_count": 9,
      "outputs": [
        {
          "output_type": "stream",
          "name": "stdout",
          "text": [
            "Epoch 1/30\n",
            "43/43 [==============================] - 38s 623ms/step - loss: 1.2790 - accuracy: 0.4415 - val_loss: 1.5445 - val_accuracy: 0.3067\n",
            "Epoch 2/30\n",
            "43/43 [==============================] - 29s 665ms/step - loss: 0.9450 - accuracy: 0.6030 - val_loss: 2.0104 - val_accuracy: 0.2000\n",
            "Epoch 3/30\n",
            "43/43 [==============================] - 27s 625ms/step - loss: 0.8754 - accuracy: 0.6356 - val_loss: 1.3699 - val_accuracy: 0.4133\n",
            "Epoch 4/30\n",
            "43/43 [==============================] - 26s 623ms/step - loss: 0.7733 - accuracy: 0.7059 - val_loss: 1.5456 - val_accuracy: 0.2933\n",
            "Epoch 5/30\n",
            "43/43 [==============================] - 26s 610ms/step - loss: 0.6460 - accuracy: 0.7385 - val_loss: 0.9607 - val_accuracy: 0.6267\n",
            "Epoch 6/30\n",
            "43/43 [==============================] - 26s 609ms/step - loss: 0.5437 - accuracy: 0.7859 - val_loss: 1.7174 - val_accuracy: 0.3200\n",
            "Epoch 7/30\n",
            "43/43 [==============================] - 26s 608ms/step - loss: 0.5906 - accuracy: 0.7733 - val_loss: 0.6910 - val_accuracy: 0.6867\n",
            "Epoch 8/30\n",
            "43/43 [==============================] - 26s 614ms/step - loss: 0.4318 - accuracy: 0.8370 - val_loss: 1.8366 - val_accuracy: 0.4067\n",
            "Epoch 9/30\n",
            "43/43 [==============================] - 27s 617ms/step - loss: 0.5216 - accuracy: 0.7970 - val_loss: 1.0303 - val_accuracy: 0.5733\n",
            "Epoch 10/30\n",
            "43/43 [==============================] - 27s 618ms/step - loss: 0.3850 - accuracy: 0.8652 - val_loss: 0.7621 - val_accuracy: 0.7400\n",
            "Epoch 11/30\n",
            "43/43 [==============================] - 27s 629ms/step - loss: 0.4365 - accuracy: 0.8326 - val_loss: 0.6993 - val_accuracy: 0.7533\n",
            "Epoch 12/30\n",
            "43/43 [==============================] - 26s 616ms/step - loss: 0.3698 - accuracy: 0.8674 - val_loss: 1.1000 - val_accuracy: 0.6067\n",
            "Epoch 13/30\n",
            "43/43 [==============================] - 26s 615ms/step - loss: 0.3608 - accuracy: 0.8607 - val_loss: 0.4463 - val_accuracy: 0.7867\n",
            "Epoch 14/30\n",
            "43/43 [==============================] - 27s 617ms/step - loss: 0.2985 - accuracy: 0.8926 - val_loss: 1.8294 - val_accuracy: 0.6667\n",
            "Epoch 15/30\n",
            "43/43 [==============================] - 27s 616ms/step - loss: 0.3145 - accuracy: 0.8830 - val_loss: 1.7444 - val_accuracy: 0.7133\n",
            "Epoch 16/30\n",
            "43/43 [==============================] - 27s 616ms/step - loss: 0.2751 - accuracy: 0.8956 - val_loss: 0.8301 - val_accuracy: 0.7133\n",
            "Epoch 17/30\n",
            "43/43 [==============================] - 26s 613ms/step - loss: 0.2110 - accuracy: 0.9237 - val_loss: 0.6494 - val_accuracy: 0.8200\n",
            "Epoch 18/30\n",
            "43/43 [==============================] - 26s 615ms/step - loss: 0.2116 - accuracy: 0.9185 - val_loss: 0.5723 - val_accuracy: 0.8267\n",
            "Epoch 19/30\n",
            "43/43 [==============================] - 26s 611ms/step - loss: 0.1725 - accuracy: 0.9348 - val_loss: 1.4365 - val_accuracy: 0.7800\n",
            "Epoch 20/30\n",
            "43/43 [==============================] - 26s 613ms/step - loss: 0.1918 - accuracy: 0.9363 - val_loss: 7.4614 - val_accuracy: 0.2800\n",
            "Epoch 21/30\n",
            "43/43 [==============================] - 27s 619ms/step - loss: 0.2832 - accuracy: 0.8933 - val_loss: 1.5950 - val_accuracy: 0.6600\n",
            "Epoch 22/30\n",
            "43/43 [==============================] - 27s 616ms/step - loss: 0.1815 - accuracy: 0.9311 - val_loss: 1.2427 - val_accuracy: 0.7333\n",
            "Epoch 23/30\n",
            "43/43 [==============================] - 26s 613ms/step - loss: 0.1940 - accuracy: 0.9370 - val_loss: 1.9592 - val_accuracy: 0.5800\n",
            "Epoch 24/30\n",
            "43/43 [==============================] - 26s 614ms/step - loss: 0.1507 - accuracy: 0.9474 - val_loss: 5.2872 - val_accuracy: 0.4200\n",
            "Epoch 25/30\n",
            "43/43 [==============================] - 26s 613ms/step - loss: 0.2004 - accuracy: 0.9311 - val_loss: 0.4782 - val_accuracy: 0.8533\n",
            "Epoch 26/30\n",
            "43/43 [==============================] - 27s 616ms/step - loss: 0.1393 - accuracy: 0.9452 - val_loss: 0.4210 - val_accuracy: 0.8733\n",
            "Epoch 27/30\n",
            "43/43 [==============================] - 26s 615ms/step - loss: 0.1562 - accuracy: 0.9422 - val_loss: 5.8077 - val_accuracy: 0.4133\n",
            "Epoch 28/30\n",
            "43/43 [==============================] - 26s 612ms/step - loss: 0.1297 - accuracy: 0.9504 - val_loss: 0.5973 - val_accuracy: 0.8400\n",
            "Epoch 29/30\n",
            "43/43 [==============================] - 26s 615ms/step - loss: 0.1136 - accuracy: 0.9585 - val_loss: 0.4187 - val_accuracy: 0.8800\n",
            "Epoch 30/30\n",
            "43/43 [==============================] - 27s 616ms/step - loss: 0.1188 - accuracy: 0.9533 - val_loss: 0.8162 - val_accuracy: 0.7933\n"
          ]
        }
      ]
    },
    {
      "cell_type": "code",
      "source": [
        "print(history.history.keys())\n",
        "# summarize history for accuracy\n",
        "plt.plot(history.history['accuracy'])\n",
        "plt.plot(history.history['val_accuracy'])\n",
        "plt.title('model accuracy')\n",
        "plt.ylabel('accuracy')\n",
        "plt.xlabel('epoch')\n",
        "plt.legend(['train', 'validation'], loc='upper left')\n",
        "plt.show()\n",
        "# summarize history for loss\n",
        "plt.plot(history.history['loss'])\n",
        "plt.plot(history.history['val_loss'])\n",
        "plt.title('model loss')\n",
        "plt.ylabel('loss')\n",
        "plt.xlabel('epoch')\n",
        "plt.legend(['train', 'validation'], loc='upper left')\n",
        "plt.show()"
      ],
      "metadata": {
        "colab": {
          "base_uri": "https://localhost:8080/",
          "height": 590
        },
        "id": "EX-TWaAFtOoa",
        "outputId": "6e24b900-d040-4b06-e2da-b810b84d23c5"
      },
      "execution_count": 10,
      "outputs": [
        {
          "output_type": "stream",
          "name": "stdout",
          "text": [
            "dict_keys(['loss', 'accuracy', 'val_loss', 'val_accuracy'])\n"
          ]
        },
        {
          "output_type": "display_data",
          "data": {
            "text/plain": [
              "<Figure size 432x288 with 1 Axes>"
            ],
            "image/png": "[encoded data removed]"
          },
          "metadata": {
            "needs_background": "light"
          }
        },
        {
          "output_type": "display_data",
          "data": {
            "text/plain": [
              "<Figure size 432x288 with 1 Axes>"
            ],
            "image/png": "[encoded data removed]"
          },
          "metadata": {
            "needs_background": "light"
          }
        }
      ]
    },
    {
      "cell_type": "code",
      "source": [
        "# Save the entire model as a SavedModel.\n",
        "!mkdir -p saved_model_h5\n",
        "model.save('saved_model_h5/Baseline Model.h5')"
      ],
      "metadata": {
        "id": "AYRKW9n93C-m"
      },
      "execution_count": 12,
      "outputs": []
    },
    {
      "cell_type": "code",
      "source": [
        "from keras.models import load_model\n",
        "import cv2\n",
        "import numpy as np\n",
        "from keras.preprocessing import image\n",
        "from google.colab.patches import cv2_imshow\n",
        "from PIL import Image\n",
        "\n",
        "classes = ['bagong', 'cepot', 'gareng', 'petruk', 'semar']\n",
        "\n",
        "loaded_model = load_model('Baseline Model.h5')\n",
        "\n",
        "image_testing = Image.open('/content/images/test/wayang_petruk_261.jpg')\n",
        "image_testing = np.array(image_testing.resize((300, 300))) / 255.0\n",
        "image_testing.shape\n",
        "\n",
        "image_testing = np.expand_dims(image_testing, axis=0)\n",
        "print(image_testing.shape)\n",
        "\n",
        "output = model.predict(image_testing)\n",
        "best_index = np.argmax(output)\n",
        "class_name = classes[best_index]\n",
        "\n",
        "print(output)\n",
        "print(best_index)"
      ],
      "metadata": {
        "colab": {
          "base_uri": "https://localhost:8080/"
        },
        "id": "bKFGCYyy2m3R",
        "outputId": "fb78eb6a-59df-4d87-a6ee-eaca340b2e6d"
      },
      "execution_count": 14,
      "outputs": [
        {
          "output_type": "stream",
          "name": "stdout",
          "text": [
            "(1, 300, 300, 3)\n",
            "[[5.461057e-03 8.946341e-03 7.332058e-04 9.847670e-01 9.228163e-05]]\n",
            "3\n"
          ]
        }
      ]
    }
  ]
}