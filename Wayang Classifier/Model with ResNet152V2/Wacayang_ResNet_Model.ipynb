{
  "nbformat": 4,
  "nbformat_minor": 0,
  "metadata": {
    "colab": {
      "name": "Wacayang ResNet Model.ipynb",
      "provenance": [],
      "collapsed_sections": []
    },
    "kernelspec": {
      "name": "python3",
      "display_name": "Python 3"
    },
    "language_info": {
      "name": "python"
    },
    "accelerator": "GPU"
  },
  "cells": [
    {
      "cell_type": "code",
      "source": [
        "! pip install kaggle\n",
        "! mkdir ~/.kaggle\n",
        "! cp kaggle.json ~/.kaggle/\n",
        "! chmod 600 ~/.kaggle/kaggle.json"
      ],
      "metadata": {
        "colab": {
          "base_uri": "https://localhost:8080/"
        },
        "id": "Zlt0-vXtoA64",
        "outputId": "a97b9845-abab-413e-ba33-117017ffb3dc"
      },
      "execution_count": null,
      "outputs": [
        {
          "output_type": "stream",
          "name": "stdout",
          "text": [
            "Looking in indexes: https://pypi.org/simple, https://us-python.pkg.dev/colab-wheels/public/simple/\n",
            "Requirement already satisfied: kaggle in /usr/local/lib/python3.7/dist-packages (1.5.12)\n",
            "Requirement already satisfied: requests in /usr/local/lib/python3.7/dist-packages (from kaggle) (2.23.0)\n",
            "Requirement already satisfied: tqdm in /usr/local/lib/python3.7/dist-packages (from kaggle) (4.64.0)\n",
            "Requirement already satisfied: urllib3 in /usr/local/lib/python3.7/dist-packages (from kaggle) (1.24.3)\n",
            "Requirement already satisfied: six>=1.10 in /usr/local/lib/python3.7/dist-packages (from kaggle) (1.15.0)\n",
            "Requirement already satisfied: python-dateutil in /usr/local/lib/python3.7/dist-packages (from kaggle) (2.8.2)\n",
            "Requirement already satisfied: python-slugify in /usr/local/lib/python3.7/dist-packages (from kaggle) (6.1.2)\n",
            "Requirement already satisfied: certifi in /usr/local/lib/python3.7/dist-packages (from kaggle) (2022.5.18.1)\n",
            "Requirement already satisfied: text-unidecode>=1.3 in /usr/local/lib/python3.7/dist-packages (from python-slugify->kaggle) (1.3)\n",
            "Requirement already satisfied: idna<3,>=2.5 in /usr/local/lib/python3.7/dist-packages (from requests->kaggle) (2.10)\n",
            "Requirement already satisfied: chardet<4,>=3.0.2 in /usr/local/lib/python3.7/dist-packages (from requests->kaggle) (3.0.4)\n"
          ]
        }
      ]
    },
    {
      "cell_type": "code",
      "source": [
        "! kaggle datasets download bayuokta/wayang-bagong-cepot-gareng-petruk-semar"
      ],
      "metadata": {
        "colab": {
          "base_uri": "https://localhost:8080/"
        },
        "id": "yssx0WTyo7tk",
        "outputId": "6e6ed773-1203-4f85-930c-114681d8e3fc"
      },
      "execution_count": null,
      "outputs": [
        {
          "output_type": "stream",
          "name": "stdout",
          "text": [
            "Downloading wayang-bagong-cepot-gareng-petruk-semar.zip to /content\n",
            " 91% 41.0M/44.9M [00:01<00:00, 45.0MB/s]\n",
            "100% 44.9M/44.9M [00:01<00:00, 39.9MB/s]\n"
          ]
        }
      ]
    },
    {
      "cell_type": "code",
      "source": [
        "! unzip -qq wayang-bagong-cepot-gareng-petruk-semar.zip"
      ],
      "metadata": {
        "id": "7H1_4xqQpagv"
      },
      "execution_count": null,
      "outputs": []
    },
    {
      "cell_type": "code",
      "source": [
        "import keras\n",
        "import tensorflow as tf\n",
        "from keras.models import Sequential\n",
        "from keras.layers import Conv2D\n",
        "from keras.layers import MaxPooling2D\n",
        "from keras.layers import Flatten\n",
        "from keras.layers import Dense\n",
        "from keras.layers import BatchNormalization\n",
        "from keras.layers import Dropout\n",
        "from tensorflow.keras.preprocessing.image import ImageDataGenerator, load_img\n",
        "from sklearn.metrics import classification_report, confusion_matrix\n",
        "import numpy as np\n",
        "import matplotlib.pyplot as plt\n",
        "import os\n",
        "from PIL import Image"
      ],
      "metadata": {
        "id": "0YvUkyzkppR5"
      },
      "execution_count": null,
      "outputs": []
    },
    {
      "cell_type": "code",
      "source": [
        "data_dir = \"images\"\n",
        "train_dir= \"images/train/\"\n",
        "val_dir = \"images/val/\"\n",
        "test_dir = \"images/test/\""
      ],
      "metadata": {
        "id": "838WDSM0pwI0"
      },
      "execution_count": null,
      "outputs": []
    },
    {
      "cell_type": "code",
      "source": [
        "train_datagen = ImageDataGenerator(rescale = 1./255,\n",
        "                                   shear_range = 0.2,\n",
        "                                   zoom_range = 0.2,\n",
        "                                   horizontal_flip = True,\n",
        "                                   vertical_flip=True,\n",
        "                                   width_shift_range=0.1,\n",
        "                                   height_shift_range=0.1,\n",
        "                                   rotation_range=10)\n",
        "\n",
        "test_datagen = ImageDataGenerator(rescale = 1./255)  #Image normalization.\n",
        "\n",
        "training_set = train_datagen.flow_from_directory(train_dir,\n",
        "                                                 target_size = (300, 300),\n",
        "                                                 batch_size = 32,\n",
        "                                                 class_mode = 'categorical')\n",
        "\n",
        "validation_generator = test_datagen.flow_from_directory(val_dir,\n",
        "    target_size=(300, 300),\n",
        "    batch_size=32,\n",
        "    class_mode='categorical')"
      ],
      "metadata": {
        "colab": {
          "base_uri": "https://localhost:8080/"
        },
        "id": "TKlpQ4S3qHvV",
        "outputId": "86f7c46c-ce85-4c6b-f819-860e8bd1df27"
      },
      "execution_count": null,
      "outputs": [
        {
          "output_type": "stream",
          "name": "stdout",
          "text": [
            "Found 1350 images belonging to 5 classes.\n",
            "Found 150 images belonging to 5 classes.\n"
          ]
        }
      ]
    },
    {
      "cell_type": "code",
      "source": [
        "from keras.callbacks import EarlyStopping\n",
        "from keras.callbacks import ModelCheckpoint\n",
        "\n",
        "class myCallback (tf.keras.callbacks.Callback):\n",
        "  def on_epoch_end(self, epoch, logs={}):\n",
        "    if(logs.get('accuracy')>0.99 and logs.get('val_accuracy')>0.99):\n",
        "      self.model.stop_training = True\n",
        "      print(\"\\nThe accuracy has reached > 99%!\")\n",
        "callbacks = myCallback()\n",
        "\n",
        "es = EarlyStopping(monitor='val_loss', mode='min', verbose=1, patience=5)\n",
        "mc = ModelCheckpoint('Wacayang_ResNet_Model.h5', monitor='val_accuracy', mode='max', verbose=1, save_best_only=True)"
      ],
      "metadata": {
        "id": "h57CCdDt4mV1"
      },
      "execution_count": null,
      "outputs": []
    },
    {
      "cell_type": "code",
      "source": [
        "from keras.layers.pooling import GlobalAveragePooling2D\n",
        "from tensorflow.keras.applications import ResNet152V2\n",
        "\n",
        "model = tf.keras.Sequential([\n",
        "    ResNet152V2(\n",
        "        include_top=False,\n",
        "        weights='imagenet',\n",
        "        input_shape=(300, 300, 3)),\n",
        "    tf.keras.layers.Flatten(),\n",
        "    tf.keras.layers.Dense(128, activation='relu'),\n",
        "    tf.keras.layers.Dense(5, activation='softmax')\n",
        "])\n",
        "model.layers[0].trainable = False"
      ],
      "metadata": {
        "id": "-KX1lqfe63Gk"
      },
      "execution_count": null,
      "outputs": []
    },
    {
      "cell_type": "code",
      "source": [
        "model.summary()"
      ],
      "metadata": {
        "colab": {
          "base_uri": "https://localhost:8080/"
        },
        "id": "blPYXn3WrYg9",
        "outputId": "4c5354bf-0c9b-475e-9fa8-1d8f143ce04a"
      },
      "execution_count": null,
      "outputs": [
        {
          "output_type": "stream",
          "name": "stdout",
          "text": [
            "Model: \"sequential_4\"\n",
            "_________________________________________________________________\n",
            " Layer (type)                Output Shape              Param #   \n",
            "=================================================================\n",
            " resnet152v2 (Functional)    (None, 10, 10, 2048)      58331648  \n",
            "                                                                 \n",
            " flatten_1 (Flatten)         (None, 204800)            0         \n",
            "                                                                 \n",
            " dense_10 (Dense)            (None, 128)               26214528  \n",
            "                                                                 \n",
            " dense_11 (Dense)            (None, 5)                 645       \n",
            "                                                                 \n",
            "=================================================================\n",
            "Total params: 84,546,821\n",
            "Trainable params: 26,215,173\n",
            "Non-trainable params: 58,331,648\n",
            "_________________________________________________________________\n"
          ]
        }
      ]
    },
    {
      "cell_type": "code",
      "source": [
        "# Compile the Neural network\n",
        "model.compile(optimizer = 'adam', loss = 'categorical_crossentropy', metrics = ['accuracy'])"
      ],
      "metadata": {
        "id": "wp3O84fa4jla"
      },
      "execution_count": null,
      "outputs": []
    },
    {
      "cell_type": "code",
      "source": [
        "history = model.fit(training_set, epochs = 100, validation_data = validation_generator, verbose = 1, callbacks=[callbacks, es, mc])"
      ],
      "metadata": {
        "colab": {
          "base_uri": "https://localhost:8080/"
        },
        "id": "rUEwJnBS8IP1",
        "outputId": "e494f871-a49e-4ffa-c360-b8c1ccc14e12"
      },
      "execution_count": null,
      "outputs": [
        {
          "output_type": "stream",
          "name": "stdout",
          "text": [
            "Epoch 1/100\n",
            "43/43 [==============================] - ETA: 0s - loss: 11.0417 - accuracy: 0.6919\n",
            "Epoch 1: val_accuracy improved from -inf to 0.89333, saving model to Wacayang_ResNet_Model.h5\n",
            "43/43 [==============================] - 46s 887ms/step - loss: 11.0417 - accuracy: 0.6919 - val_loss: 0.6369 - val_accuracy: 0.8933\n",
            "Epoch 2/100\n",
            "43/43 [==============================] - ETA: 0s - loss: 0.3147 - accuracy: 0.9230\n",
            "Epoch 2: val_accuracy improved from 0.89333 to 0.92000, saving model to Wacayang_ResNet_Model.h5\n",
            "43/43 [==============================] - 37s 863ms/step - loss: 0.3147 - accuracy: 0.9230 - val_loss: 0.1818 - val_accuracy: 0.9200\n",
            "Epoch 3/100\n",
            "43/43 [==============================] - ETA: 0s - loss: 0.1145 - accuracy: 0.9607\n",
            "Epoch 3: val_accuracy did not improve from 0.92000\n",
            "43/43 [==============================] - 34s 778ms/step - loss: 0.1145 - accuracy: 0.9607 - val_loss: 0.1727 - val_accuracy: 0.9067\n",
            "Epoch 4/100\n",
            "43/43 [==============================] - ETA: 0s - loss: 0.0943 - accuracy: 0.9696\n",
            "Epoch 4: val_accuracy improved from 0.92000 to 0.94667, saving model to Wacayang_ResNet_Model.h5\n",
            "43/43 [==============================] - 35s 821ms/step - loss: 0.0943 - accuracy: 0.9696 - val_loss: 0.1336 - val_accuracy: 0.9467\n",
            "Epoch 5/100\n",
            "43/43 [==============================] - ETA: 0s - loss: 0.0665 - accuracy: 0.9733\n",
            "Epoch 5: val_accuracy did not improve from 0.94667\n",
            "43/43 [==============================] - 34s 778ms/step - loss: 0.0665 - accuracy: 0.9733 - val_loss: 0.1999 - val_accuracy: 0.9200\n",
            "Epoch 6/100\n",
            "43/43 [==============================] - ETA: 0s - loss: 0.0417 - accuracy: 0.9859\n",
            "Epoch 6: val_accuracy did not improve from 0.94667\n",
            "43/43 [==============================] - 34s 776ms/step - loss: 0.0417 - accuracy: 0.9859 - val_loss: 0.1148 - val_accuracy: 0.9467\n",
            "Epoch 7/100\n",
            "43/43 [==============================] - ETA: 0s - loss: 0.0571 - accuracy: 0.9859\n",
            "Epoch 7: val_accuracy did not improve from 0.94667\n",
            "43/43 [==============================] - 33s 771ms/step - loss: 0.0571 - accuracy: 0.9859 - val_loss: 0.2765 - val_accuracy: 0.9200\n",
            "Epoch 8/100\n",
            "43/43 [==============================] - ETA: 0s - loss: 0.0535 - accuracy: 0.9830\n",
            "Epoch 8: val_accuracy improved from 0.94667 to 0.97333, saving model to Wacayang_ResNet_Model.h5\n",
            "43/43 [==============================] - 36s 841ms/step - loss: 0.0535 - accuracy: 0.9830 - val_loss: 0.1086 - val_accuracy: 0.9733\n",
            "Epoch 9/100\n",
            "43/43 [==============================] - ETA: 0s - loss: 0.0403 - accuracy: 0.9844\n",
            "Epoch 9: val_accuracy did not improve from 0.97333\n",
            "43/43 [==============================] - 34s 796ms/step - loss: 0.0403 - accuracy: 0.9844 - val_loss: 0.0919 - val_accuracy: 0.9467\n",
            "Epoch 10/100\n",
            "43/43 [==============================] - ETA: 0s - loss: 0.0403 - accuracy: 0.9859\n",
            "Epoch 10: val_accuracy did not improve from 0.97333\n",
            "43/43 [==============================] - 34s 786ms/step - loss: 0.0403 - accuracy: 0.9859 - val_loss: 0.0428 - val_accuracy: 0.9733\n",
            "Epoch 11/100\n",
            "43/43 [==============================] - ETA: 0s - loss: 0.0304 - accuracy: 0.9896\n",
            "Epoch 11: val_accuracy improved from 0.97333 to 0.99333, saving model to Wacayang_ResNet_Model.h5\n",
            "43/43 [==============================] - 36s 829ms/step - loss: 0.0304 - accuracy: 0.9896 - val_loss: 0.0058 - val_accuracy: 0.9933\n",
            "Epoch 12/100\n",
            "43/43 [==============================] - ETA: 0s - loss: 0.0923 - accuracy: 0.9837\n",
            "Epoch 12: val_accuracy did not improve from 0.99333\n",
            "43/43 [==============================] - 34s 786ms/step - loss: 0.0923 - accuracy: 0.9837 - val_loss: 0.1532 - val_accuracy: 0.9733\n",
            "Epoch 13/100\n",
            "43/43 [==============================] - ETA: 0s - loss: 0.0544 - accuracy: 0.9844\n",
            "Epoch 13: val_accuracy did not improve from 0.99333\n",
            "43/43 [==============================] - 34s 775ms/step - loss: 0.0544 - accuracy: 0.9844 - val_loss: 0.0538 - val_accuracy: 0.9733\n",
            "Epoch 14/100\n",
            "43/43 [==============================] - ETA: 0s - loss: 0.0553 - accuracy: 0.9837\n",
            "Epoch 14: val_accuracy improved from 0.99333 to 1.00000, saving model to Wacayang_ResNet_Model.h5\n",
            "43/43 [==============================] - 36s 828ms/step - loss: 0.0553 - accuracy: 0.9837 - val_loss: 0.0034 - val_accuracy: 1.0000\n",
            "Epoch 15/100\n",
            "43/43 [==============================] - ETA: 0s - loss: 0.0405 - accuracy: 0.9874\n",
            "Epoch 15: val_accuracy did not improve from 1.00000\n",
            "43/43 [==============================] - 34s 775ms/step - loss: 0.0405 - accuracy: 0.9874 - val_loss: 0.0024 - val_accuracy: 1.0000\n",
            "Epoch 16/100\n",
            "43/43 [==============================] - ETA: 0s - loss: 0.0155 - accuracy: 0.9933\n",
            "The accuracy has reached > 99%!\n",
            "\n",
            "Epoch 16: val_accuracy did not improve from 1.00000\n",
            "43/43 [==============================] - 34s 778ms/step - loss: 0.0155 - accuracy: 0.9933 - val_loss: 5.4164e-04 - val_accuracy: 1.0000\n"
          ]
        }
      ]
    },
    {
      "cell_type": "code",
      "source": [
        "print(history.history.keys())\n",
        "# summarize history for accuracy\n",
        "plt.plot(history.history['accuracy'])\n",
        "plt.plot(history.history['val_accuracy'])\n",
        "plt.title('model accuracy')\n",
        "plt.ylabel('accuracy')\n",
        "plt.xlabel('epoch')\n",
        "plt.legend(['train', 'validation'], loc='upper left')\n",
        "plt.show()\n",
        "# summarize history for loss\n",
        "plt.plot(history.history['loss'])\n",
        "plt.plot(history.history['val_loss'])\n",
        "plt.title('model loss')\n",
        "plt.ylabel('loss')\n",
        "plt.xlabel('epoch')\n",
        "plt.legend(['train', 'validation'], loc='upper left')\n",
        "plt.show()"
      ],
      "metadata": {
        "colab": {
          "base_uri": "https://localhost:8080/",
          "height": 590
        },
        "id": "EX-TWaAFtOoa",
        "outputId": "4cfa65c8-46be-485f-b61e-6797ebccf900"
      },
      "execution_count": null,
      "outputs": [
        {
          "output_type": "stream",
          "name": "stdout",
          "text": [
            "dict_keys(['loss', 'accuracy', 'val_loss', 'val_accuracy'])\n"
          ]
        },
        {
          "output_type": "display_data",
          "data": {
            "text/plain": [
              "<Figure size 432x288 with 1 Axes>"
            ],
            "image/png": "[encoded data removed]"
          },
          "metadata": {
            "needs_background": "light"
          }
        },
        {
          "output_type": "display_data",
          "data": {
            "text/plain": [
              "<Figure size 432x288 with 1 Axes>"
            ],
            "image/png": "[encoded data removed]"
          },
          "metadata": {
            "needs_background": "light"
          }
        }
      ]
    },
    {
      "cell_type": "code",
      "source": [
        "from keras.models import load_model\n",
        "import cv2\n",
        "import numpy as np\n",
        "from keras.preprocessing import image\n",
        "from google.colab.patches import cv2_imshow\n",
        "from PIL import Image\n",
        "\n",
        "classes = ['bagong', 'cepot', 'gareng', 'petruk', 'semar']\n",
        "\n",
        "loaded_model = load_model('Wacayang_ResNet_Model.h5')\n",
        "\n",
        "image_testing = Image.open('/content/cepot.jpeg')\n",
        "image_testing = np.array(image_testing.resize((300, 300))) / 255.0\n",
        "image_testing.shape\n",
        "\n",
        "image_testing = np.expand_dims(image_testing, axis=0)\n",
        "print(image_testing.shape)\n",
        "\n",
        "output = model.predict(image_testing)\n",
        "best_index = np.argmax(output)\n",
        "class_name = classes[best_index]\n",
        "\n",
        "print(output)\n",
        "print(best_index)"
      ],
      "metadata": {
        "colab": {
          "base_uri": "https://localhost:8080/"
        },
        "id": "bKFGCYyy2m3R",
        "outputId": "dd2453ec-92c1-4e06-d0eb-133c9b48be0c"
      },
      "execution_count": null,
      "outputs": [
        {
          "output_type": "stream",
          "name": "stdout",
          "text": [
            "(1, 300, 300, 3)\n",
            "[[7.5480159e-25 1.0000000e+00 3.0098963e-23 1.6331971e-30 5.9996904e-19]]\n",
            "1\n"
          ]
        }
      ]
    },
    {
      "cell_type": "code",
      "source": [
        "test_datagen = ImageDataGenerator(rescale = 1./255)  #Image normalization.\n",
        "test_set = test_datagen.flow_from_directory('/content/drive/MyDrive/Colab Notebooks/Wacayang/test',\n",
        "                                            target_size = (300, 300),\n",
        "                                            batch_size = 32,\n",
        "                                            class_mode = 'categorical')"
      ],
      "metadata": {
        "colab": {
          "base_uri": "https://localhost:8080/"
        },
        "id": "6TZ7lrtnh65V",
        "outputId": "441c7898-a1d3-4578-c7ec-1c64b9cd717c"
      },
      "execution_count": null,
      "outputs": [
        {
          "output_type": "stream",
          "name": "stdout",
          "text": [
            "Found 150 images belonging to 5 classes.\n"
          ]
        }
      ]
    },
    {
      "cell_type": "code",
      "source": [
        "score = model.evaluate(test_set, return_dict=True, verbose=0)"
      ],
      "metadata": {
        "id": "rESM2LZMi5v3"
      },
      "execution_count": null,
      "outputs": []
    },
    {
      "cell_type": "code",
      "source": [
        "print(score)"
      ],
      "metadata": {
        "colab": {
          "base_uri": "https://localhost:8080/"
        },
        "id": "wjJ1NHJmjYVX",
        "outputId": "16293118-dcc6-4812-c0d3-03d2ecb7a6ba"
      },
      "execution_count": null,
      "outputs": [
        {
          "output_type": "stream",
          "name": "stdout",
          "text": [
            "{'loss': 0.00041236431570723653, 'accuracy': 1.0}\n"
          ]
        }
      ]
    },
    {
      "cell_type": "code",
      "source": [
        "cd  /content/drive/MyDrive/Colab Notebooks/Wacayang"
      ],
      "metadata": {
        "colab": {
          "base_uri": "https://localhost:8080/"
        },
        "id": "QwTgSXIIuvQa",
        "outputId": "d148f060-7b18-4ed8-dcc7-6c98d0a22c2d"
      },
      "execution_count": null,
      "outputs": [
        {
          "output_type": "stream",
          "name": "stdout",
          "text": [
            "/content/drive/MyDrive/Colab Notebooks/Wacayang\n"
          ]
        }
      ]
    },
    {
      "cell_type": "code",
      "source": [
        "model.save('Wacayang_ResNet_Model.h5')"
      ],
      "metadata": {
        "id": "CAcpIznGuawD"
      },
      "execution_count": null,
      "outputs": []
    }
  ]
}