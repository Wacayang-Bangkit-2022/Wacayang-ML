{
  "nbformat": 4,
  "nbformat_minor": 0,
  "metadata": {
    "colab": {
      "name": "Wacayang_DenseNet_Model.ipynb",
      "provenance": [],
      "collapsed_sections": []
    },
    "kernelspec": {
      "name": "python3",
      "display_name": "Python 3"
    },
    "language_info": {
      "name": "python"
    },
    "accelerator": "GPU"
  },
  "cells": [
    {
      "cell_type": "code",
      "source": [
        "! pip install kaggle\n",
        "! mkdir ~/.kaggle\n",
        "! cp kaggle.json ~/.kaggle/\n",
        "! chmod 600 ~/.kaggle/kaggle.json"
      ],
      "metadata": {
        "colab": {
          "base_uri": "https://localhost:8080/"
        },
        "id": "Zlt0-vXtoA64",
        "outputId": "3d864b7f-2dfc-413c-9d5a-d744625ae78f"
      },
      "execution_count": null,
      "outputs": [
        {
          "output_type": "stream",
          "name": "stdout",
          "text": [
            "Looking in indexes: https://pypi.org/simple, https://us-python.pkg.dev/colab-wheels/public/simple/\n",
            "Requirement already satisfied: kaggle in /usr/local/lib/python3.7/dist-packages (1.5.12)\n",
            "Requirement already satisfied: certifi in /usr/local/lib/python3.7/dist-packages (from kaggle) (2022.5.18.1)\n",
            "Requirement already satisfied: python-slugify in /usr/local/lib/python3.7/dist-packages (from kaggle) (6.1.2)\n",
            "Requirement already satisfied: python-dateutil in /usr/local/lib/python3.7/dist-packages (from kaggle) (2.8.2)\n",
            "Requirement already satisfied: requests in /usr/local/lib/python3.7/dist-packages (from kaggle) (2.23.0)\n",
            "Requirement already satisfied: urllib3 in /usr/local/lib/python3.7/dist-packages (from kaggle) (1.24.3)\n",
            "Requirement already satisfied: tqdm in /usr/local/lib/python3.7/dist-packages (from kaggle) (4.64.0)\n",
            "Requirement already satisfied: six>=1.10 in /usr/local/lib/python3.7/dist-packages (from kaggle) (1.15.0)\n",
            "Requirement already satisfied: text-unidecode>=1.3 in /usr/local/lib/python3.7/dist-packages (from python-slugify->kaggle) (1.3)\n",
            "Requirement already satisfied: chardet<4,>=3.0.2 in /usr/local/lib/python3.7/dist-packages (from requests->kaggle) (3.0.4)\n",
            "Requirement already satisfied: idna<3,>=2.5 in /usr/local/lib/python3.7/dist-packages (from requests->kaggle) (2.10)\n"
          ]
        }
      ]
    },
    {
      "cell_type": "code",
      "source": [
        "! kaggle datasets download bayuokta/wayang-bagong-cepot-gareng-petruk-semar"
      ],
      "metadata": {
        "colab": {
          "base_uri": "https://localhost:8080/"
        },
        "id": "yssx0WTyo7tk",
        "outputId": "115cf2d7-6584-428c-fa31-d5acf15bf029"
      },
      "execution_count": null,
      "outputs": [
        {
          "output_type": "stream",
          "name": "stdout",
          "text": [
            "Downloading wayang-bagong-cepot-gareng-petruk-semar.zip to /content\n",
            " 60% 27.0M/44.9M [00:00<00:00, 275MB/s]\n",
            "100% 44.9M/44.9M [00:00<00:00, 315MB/s]\n"
          ]
        }
      ]
    },
    {
      "cell_type": "code",
      "source": [
        "! unzip -qq wayang-bagong-cepot-gareng-petruk-semar.zip"
      ],
      "metadata": {
        "id": "7H1_4xqQpagv"
      },
      "execution_count": null,
      "outputs": []
    },
    {
      "cell_type": "code",
      "source": [
        "import keras\n",
        "import tensorflow as tf\n",
        "from keras.models import Sequential\n",
        "from keras.layers import Conv2D\n",
        "from keras.layers import MaxPooling2D\n",
        "from keras.layers import Flatten\n",
        "from keras.layers import Dense\n",
        "from keras.layers import BatchNormalization\n",
        "from keras.layers import Dropout\n",
        "from tensorflow.keras.preprocessing.image import ImageDataGenerator, load_img\n",
        "from sklearn.metrics import classification_report, confusion_matrix\n",
        "import numpy as np\n",
        "import matplotlib.pyplot as plt\n",
        "import os\n",
        "from PIL import Image"
      ],
      "metadata": {
        "id": "0YvUkyzkppR5"
      },
      "execution_count": null,
      "outputs": []
    },
    {
      "cell_type": "code",
      "source": [
        "data_dir = \"images\"\n",
        "train_dir= \"images/train/\"\n",
        "val_dir = \"images/val/\"\n",
        "test_dir = \"images/test/\""
      ],
      "metadata": {
        "id": "838WDSM0pwI0"
      },
      "execution_count": null,
      "outputs": []
    },
    {
      "cell_type": "code",
      "source": [
        "train_datagen = ImageDataGenerator(rescale = 1./255,\n",
        "                                   shear_range = 0.2,\n",
        "                                   zoom_range = 0.2,\n",
        "                                   horizontal_flip = True,\n",
        "                                   vertical_flip=True,\n",
        "                                   width_shift_range=0.1,\n",
        "                                   height_shift_range=0.1,\n",
        "                                   rotation_range=10)\n",
        "\n",
        "test_datagen = ImageDataGenerator(rescale = 1./255)  #Image normalization.\n",
        "\n",
        "training_set = train_datagen.flow_from_directory(train_dir,\n",
        "                                                 target_size = (300, 300),\n",
        "                                                 batch_size = 32,\n",
        "                                                 class_mode = 'categorical')\n",
        "\n",
        "validation_generator = test_datagen.flow_from_directory(val_dir,\n",
        "    target_size=(300, 300),\n",
        "    batch_size=32,\n",
        "    class_mode='categorical')"
      ],
      "metadata": {
        "colab": {
          "base_uri": "https://localhost:8080/"
        },
        "id": "TKlpQ4S3qHvV",
        "outputId": "2d032e6c-760f-4534-ba1c-bc2ef4e05d02"
      },
      "execution_count": null,
      "outputs": [
        {
          "output_type": "stream",
          "name": "stdout",
          "text": [
            "Found 1350 images belonging to 5 classes.\n",
            "Found 150 images belonging to 5 classes.\n"
          ]
        }
      ]
    },
    {
      "cell_type": "code",
      "source": [
        "from keras.callbacks import EarlyStopping\n",
        "from keras.callbacks import ModelCheckpoint\n",
        "\n",
        "class myCallback (tf.keras.callbacks.Callback):\n",
        "  def on_epoch_end(self, epoch, logs={}):\n",
        "    if(logs.get('accuracy')>0.99 and logs.get('val_accuracy')>0.99):\n",
        "      self.model.stop_training = True\n",
        "      print(\"\\nThe accuracy has reached > 99%!\")\n",
        "callbacks = myCallback()\n",
        "\n",
        "es = EarlyStopping(monitor='val_loss', mode='min', verbose=1, patience=5)\n",
        "mc = ModelCheckpoint('Wacayang_DenseNet_Model.h5', monitor='val_accuracy', mode='max', verbose=1, save_best_only=True)"
      ],
      "metadata": {
        "id": "h57CCdDt4mV1"
      },
      "execution_count": null,
      "outputs": []
    },
    {
      "cell_type": "code",
      "source": [
        "from keras.layers.pooling import GlobalAveragePooling2D\n",
        "from tensorflow.keras.applications.densenet import DenseNet121\n",
        "\n",
        "model = tf.keras.Sequential([\n",
        "    DenseNet121(\n",
        "        include_top=False,\n",
        "        weights='imagenet',\n",
        "        input_shape=(300, 300, 3)),\n",
        "    tf.keras.layers.GlobalAveragePooling2D(),\n",
        "    tf.keras.layers.Dense(5, activation='softmax')\n",
        "])"
      ],
      "metadata": {
        "colab": {
          "base_uri": "https://localhost:8080/"
        },
        "id": "-KX1lqfe63Gk",
        "outputId": "ed971d0c-4797-4e3c-a019-71b53d163ee0"
      },
      "execution_count": null,
      "outputs": [
        {
          "output_type": "stream",
          "name": "stdout",
          "text": [
            "Downloading data from https://storage.googleapis.com/tensorflow/keras-applications/densenet/densenet121_weights_tf_dim_ordering_tf_kernels_notop.h5\n",
            "29089792/29084464 [==============================] - 0s 0us/step\n",
            "29097984/29084464 [==============================] - 0s 0us/step\n"
          ]
        }
      ]
    },
    {
      "cell_type": "code",
      "source": [
        "model.summary()"
      ],
      "metadata": {
        "colab": {
          "base_uri": "https://localhost:8080/"
        },
        "id": "blPYXn3WrYg9",
        "outputId": "6058f13b-3168-4a35-9b28-f7a3508bd852"
      },
      "execution_count": null,
      "outputs": [
        {
          "output_type": "stream",
          "name": "stdout",
          "text": [
            "Model: \"sequential\"\n",
            "_________________________________________________________________\n",
            " Layer (type)                Output Shape              Param #   \n",
            "=================================================================\n",
            " densenet121 (Functional)    (None, 9, 9, 1024)        7037504   \n",
            "                                                                 \n",
            " global_average_pooling2d (G  (None, 1024)             0         \n",
            " lobalAveragePooling2D)                                          \n",
            "                                                                 \n",
            " dense (Dense)               (None, 5)                 5125      \n",
            "                                                                 \n",
            "=================================================================\n",
            "Total params: 7,042,629\n",
            "Trainable params: 6,958,981\n",
            "Non-trainable params: 83,648\n",
            "_________________________________________________________________\n"
          ]
        }
      ]
    },
    {
      "cell_type": "code",
      "source": [
        "# Compile the Neural network\n",
        "model.compile(optimizer = 'adam', loss = 'categorical_crossentropy', metrics = ['accuracy'])"
      ],
      "metadata": {
        "id": "wp3O84fa4jla"
      },
      "execution_count": null,
      "outputs": []
    },
    {
      "cell_type": "code",
      "source": [
        "history = model.fit(training_set, epochs = 50, validation_data = validation_generator, verbose = 1, callbacks=[callbacks, es, mc])"
      ],
      "metadata": {
        "colab": {
          "base_uri": "https://localhost:8080/"
        },
        "id": "rUEwJnBS8IP1",
        "outputId": "5d99a039-8a88-4b22-8b71-e94f60f7d493"
      },
      "execution_count": null,
      "outputs": [
        {
          "output_type": "stream",
          "name": "stdout",
          "text": [
            "Epoch 1/50\n",
            "43/43 [==============================] - ETA: 0s - loss: 0.3205 - accuracy: 0.8889\n",
            "Epoch 1: val_accuracy improved from -inf to 0.24000, saving model to Wacayang_DenseNet_Model.h5\n",
            "43/43 [==============================] - 74s 1s/step - loss: 0.3205 - accuracy: 0.8889 - val_loss: 38.9922 - val_accuracy: 0.2400\n",
            "Epoch 2/50\n",
            "43/43 [==============================] - ETA: 0s - loss: 0.1600 - accuracy: 0.9481\n",
            "Epoch 2: val_accuracy did not improve from 0.24000\n",
            "43/43 [==============================] - 36s 824ms/step - loss: 0.1600 - accuracy: 0.9481 - val_loss: 18.1874 - val_accuracy: 0.2000\n",
            "Epoch 3/50\n",
            "43/43 [==============================] - ETA: 0s - loss: 0.2187 - accuracy: 0.9259\n",
            "Epoch 3: val_accuracy improved from 0.24000 to 0.32000, saving model to Wacayang_DenseNet_Model.h5\n",
            "43/43 [==============================] - 37s 858ms/step - loss: 0.2187 - accuracy: 0.9259 - val_loss: 13.6952 - val_accuracy: 0.3200\n",
            "Epoch 4/50\n",
            "43/43 [==============================] - ETA: 0s - loss: 0.0648 - accuracy: 0.9852\n",
            "Epoch 4: val_accuracy improved from 0.32000 to 0.70667, saving model to Wacayang_DenseNet_Model.h5\n",
            "43/43 [==============================] - 37s 863ms/step - loss: 0.0648 - accuracy: 0.9852 - val_loss: 3.1028 - val_accuracy: 0.7067\n",
            "Epoch 5/50\n",
            "43/43 [==============================] - ETA: 0s - loss: 0.0349 - accuracy: 0.9889\n",
            "Epoch 5: val_accuracy did not improve from 0.70667\n",
            "43/43 [==============================] - 36s 829ms/step - loss: 0.0349 - accuracy: 0.9889 - val_loss: 2.5688 - val_accuracy: 0.6000\n",
            "Epoch 6/50\n",
            "43/43 [==============================] - ETA: 0s - loss: 0.1072 - accuracy: 0.9659\n",
            "Epoch 6: val_accuracy did not improve from 0.70667\n",
            "43/43 [==============================] - 36s 826ms/step - loss: 0.1072 - accuracy: 0.9659 - val_loss: 21.5386 - val_accuracy: 0.3600\n",
            "Epoch 7/50\n",
            "43/43 [==============================] - ETA: 0s - loss: 0.0712 - accuracy: 0.9756\n",
            "Epoch 7: val_accuracy did not improve from 0.70667\n",
            "43/43 [==============================] - 36s 823ms/step - loss: 0.0712 - accuracy: 0.9756 - val_loss: 24.0400 - val_accuracy: 0.2000\n",
            "Epoch 8/50\n",
            "43/43 [==============================] - ETA: 0s - loss: 0.0537 - accuracy: 0.9830\n",
            "Epoch 8: val_accuracy improved from 0.70667 to 0.90667, saving model to Wacayang_DenseNet_Model.h5\n",
            "43/43 [==============================] - 37s 851ms/step - loss: 0.0537 - accuracy: 0.9830 - val_loss: 0.2683 - val_accuracy: 0.9067\n",
            "Epoch 9/50\n",
            "43/43 [==============================] - ETA: 0s - loss: 0.0542 - accuracy: 0.9778\n",
            "Epoch 9: val_accuracy improved from 0.90667 to 0.94667, saving model to Wacayang_DenseNet_Model.h5\n",
            "43/43 [==============================] - 37s 861ms/step - loss: 0.0542 - accuracy: 0.9778 - val_loss: 0.0798 - val_accuracy: 0.9467\n",
            "Epoch 10/50\n",
            "43/43 [==============================] - ETA: 0s - loss: 0.0293 - accuracy: 0.9919\n",
            "Epoch 10: val_accuracy did not improve from 0.94667\n",
            "43/43 [==============================] - 36s 831ms/step - loss: 0.0293 - accuracy: 0.9919 - val_loss: 0.6199 - val_accuracy: 0.8400\n",
            "Epoch 11/50\n",
            "43/43 [==============================] - ETA: 0s - loss: 0.0179 - accuracy: 0.9941\n",
            "Epoch 11: val_accuracy improved from 0.94667 to 0.98667, saving model to Wacayang_DenseNet_Model.h5\n",
            "43/43 [==============================] - 37s 852ms/step - loss: 0.0179 - accuracy: 0.9941 - val_loss: 0.0627 - val_accuracy: 0.9867\n",
            "Epoch 12/50\n",
            "43/43 [==============================] - ETA: 0s - loss: 0.0167 - accuracy: 0.9941\n",
            "Epoch 12: val_accuracy did not improve from 0.98667\n",
            "43/43 [==============================] - 36s 825ms/step - loss: 0.0167 - accuracy: 0.9941 - val_loss: 0.4829 - val_accuracy: 0.9333\n",
            "Epoch 13/50\n",
            "43/43 [==============================] - ETA: 0s - loss: 0.0359 - accuracy: 0.9911\n",
            "Epoch 13: val_accuracy did not improve from 0.98667\n",
            "43/43 [==============================] - 36s 822ms/step - loss: 0.0359 - accuracy: 0.9911 - val_loss: 1.2694 - val_accuracy: 0.8133\n",
            "Epoch 14/50\n",
            "43/43 [==============================] - ETA: 0s - loss: 0.0462 - accuracy: 0.9815\n",
            "Epoch 14: val_accuracy did not improve from 0.98667\n",
            "43/43 [==============================] - 36s 824ms/step - loss: 0.0462 - accuracy: 0.9815 - val_loss: 0.1552 - val_accuracy: 0.9067\n",
            "Epoch 15/50\n",
            "43/43 [==============================] - ETA: 0s - loss: 0.0200 - accuracy: 0.9948\n",
            "Epoch 15: val_accuracy did not improve from 0.98667\n",
            "43/43 [==============================] - 36s 824ms/step - loss: 0.0200 - accuracy: 0.9948 - val_loss: 0.1093 - val_accuracy: 0.9800\n",
            "Epoch 16/50\n",
            "43/43 [==============================] - ETA: 0s - loss: 0.0169 - accuracy: 0.9956\n",
            "Epoch 16: val_accuracy did not improve from 0.98667\n",
            "43/43 [==============================] - 36s 828ms/step - loss: 0.0169 - accuracy: 0.9956 - val_loss: 0.0600 - val_accuracy: 0.9800\n",
            "Epoch 17/50\n",
            "43/43 [==============================] - ETA: 0s - loss: 0.0318 - accuracy: 0.9904\n",
            "Epoch 17: val_accuracy did not improve from 0.98667\n",
            "43/43 [==============================] - 36s 828ms/step - loss: 0.0318 - accuracy: 0.9904 - val_loss: 0.0187 - val_accuracy: 0.9867\n",
            "Epoch 18/50\n",
            "43/43 [==============================] - ETA: 0s - loss: 0.0174 - accuracy: 0.9970\n",
            "Epoch 18: val_accuracy did not improve from 0.98667\n",
            "43/43 [==============================] - 36s 825ms/step - loss: 0.0174 - accuracy: 0.9970 - val_loss: 0.0292 - val_accuracy: 0.9867\n",
            "Epoch 19/50\n",
            "43/43 [==============================] - ETA: 0s - loss: 0.0160 - accuracy: 0.9956\n",
            "The accuracy has reached > 99%!\n",
            "\n",
            "Epoch 19: val_accuracy improved from 0.98667 to 0.99333, saving model to Wacayang_DenseNet_Model.h5\n",
            "43/43 [==============================] - 37s 848ms/step - loss: 0.0160 - accuracy: 0.9956 - val_loss: 0.0124 - val_accuracy: 0.9933\n"
          ]
        }
      ]
    },
    {
      "cell_type": "code",
      "source": [
        "print(history.history.keys())\n",
        "# summarize history for accuracy\n",
        "plt.plot(history.history['accuracy'])\n",
        "plt.plot(history.history['val_accuracy'])\n",
        "plt.title('model accuracy')\n",
        "plt.ylabel('accuracy')\n",
        "plt.xlabel('epoch')\n",
        "plt.legend(['train', 'validation'], loc='upper left')\n",
        "plt.show()\n",
        "# summarize history for loss\n",
        "plt.plot(history.history['loss'])\n",
        "plt.plot(history.history['val_loss'])\n",
        "plt.title('model loss')\n",
        "plt.ylabel('loss')\n",
        "plt.xlabel('epoch')\n",
        "plt.legend(['train', 'validation'], loc='upper left')\n",
        "plt.show()"
      ],
      "metadata": {
        "colab": {
          "base_uri": "https://localhost:8080/",
          "height": 590
        },
        "id": "EX-TWaAFtOoa",
        "outputId": "80e8b0c5-f759-437d-8d27-58d209c0c171"
      },
      "execution_count": null,
      "outputs": [
        {
          "output_type": "stream",
          "name": "stdout",
          "text": [
            "dict_keys(['loss', 'accuracy', 'val_loss', 'val_accuracy'])\n"
          ]
        },
        {
          "output_type": "display_data",
          "data": {
            "text/plain": [
              "<Figure size 432x288 with 1 Axes>"
            ],
            "image/png": "[encoded data removed]"
          },
          "metadata": {
            "needs_background": "light"
          }
        },
        {
          "output_type": "display_data",
          "data": {
            "text/plain": [
              "<Figure size 432x288 with 1 Axes>"
            ],
            "image/png": "[encoded data removed]"
          },
          "metadata": {
            "needs_background": "light"
          }
        }
      ]
    },
    {
      "cell_type": "code",
      "source": [
        "# Save the model as a Keras model.\n",
        "model.save('Wacayang_DenseNet_Model.h5')"
      ],
      "metadata": {
        "id": "AYRKW9n93C-m"
      },
      "execution_count": null,
      "outputs": []
    },
    {
      "cell_type": "code",
      "source": [
        "from keras.models import load_model\n",
        "import cv2\n",
        "import numpy as np\n",
        "from keras.preprocessing import image\n",
        "from google.colab.patches import cv2_imshow\n",
        "from PIL import Image\n",
        "\n",
        "classes = ['bagong', 'cepot', 'gareng', 'petruk', 'semar']\n",
        "\n",
        "loaded_model = load_model('Wacayang_DenseNet_Model.h5')\n",
        "\n",
        "image_testing = Image.open('/content/images/test/wayang_petruk_261.jpg')\n",
        "image_testing = np.array(image_testing.resize((300, 300))) / 255.0\n",
        "image_testing.shape\n",
        "\n",
        "image_testing = np.expand_dims(image_testing, axis=0)\n",
        "print(image_testing.shape)\n",
        "\n",
        "output = model.predict(image_testing)\n",
        "best_index = np.argmax(output)\n",
        "class_name = classes[best_index]\n",
        "\n",
        "print(output)\n",
        "print(best_index)"
      ],
      "metadata": {
        "colab": {
          "base_uri": "https://localhost:8080/"
        },
        "id": "bKFGCYyy2m3R",
        "outputId": "40c2353a-5eb4-46b3-a13a-2de4924efd1e"
      },
      "execution_count": null,
      "outputs": [
        {
          "output_type": "stream",
          "name": "stdout",
          "text": [
            "(1, 300, 300, 3)\n",
            "[[3.9708634e-13 4.2874775e-14 1.8354680e-08 1.0000000e+00 7.1592234e-14]]\n",
            "3\n"
          ]
        }
      ]
    },
    {
      "cell_type": "code",
      "source": [
        "from google.colab import drive\n",
        "drive.mount('/content/drive')"
      ],
      "metadata": {
        "colab": {
          "base_uri": "https://localhost:8080/"
        },
        "id": "VMgRxBMM73KQ",
        "outputId": "fb35cf8b-f500-4b05-d762-def54f4a3799"
      },
      "execution_count": 1,
      "outputs": [
        {
          "output_type": "stream",
          "name": "stdout",
          "text": [
            "Mounted at /content/drive\n"
          ]
        }
      ]
    },
    {
      "cell_type": "code",
      "source": [
        "cd /content/drive/MyDrive/Colab Notebooks/Wacayang"
      ],
      "metadata": {
        "colab": {
          "base_uri": "https://localhost:8080/"
        },
        "id": "QEfm476kA_ig",
        "outputId": "bc92fd2b-23bd-4de8-98c5-e9072e5c0a20"
      },
      "execution_count": 13,
      "outputs": [
        {
          "output_type": "stream",
          "name": "stdout",
          "text": [
            "/content/drive/MyDrive/Colab Notebooks/Wacayang\n"
          ]
        }
      ]
    },
    {
      "cell_type": "code",
      "source": [
        "from keras.models import load_model\n",
        "loaded_model = load_model('Wacayang_DenseNet_Model.h5')"
      ],
      "metadata": {
        "id": "PbV6Cgsf7wf6"
      },
      "execution_count": 14,
      "outputs": []
    },
    {
      "cell_type": "code",
      "source": [
        "from tensorflow.keras.preprocessing.image import ImageDataGenerator, load_img\n",
        "\n",
        "test_datagen = ImageDataGenerator(rescale = 1./255)  #Image normalization.\n",
        "test_set = test_datagen.flow_from_directory('/content/drive/MyDrive/Colab Notebooks/Wacayang/test',\n",
        "                                            target_size = (300, 300),\n",
        "                                            batch_size = 32,\n",
        "                                            class_mode = 'categorical')"
      ],
      "metadata": {
        "colab": {
          "base_uri": "https://localhost:8080/"
        },
        "id": "AeJAROYcBWVx",
        "outputId": "942f5362-1882-4fea-f423-d6f114e97caf"
      },
      "execution_count": 15,
      "outputs": [
        {
          "output_type": "stream",
          "name": "stdout",
          "text": [
            "Found 150 images belonging to 5 classes.\n"
          ]
        }
      ]
    },
    {
      "cell_type": "code",
      "source": [
        "score = loaded_model.evaluate(test_set, return_dict=True, verbose=0)\n",
        "print(score)"
      ],
      "metadata": {
        "colab": {
          "base_uri": "https://localhost:8080/"
        },
        "id": "79gH8_YkBdU5",
        "outputId": "7c8e17a7-a33f-4748-c263-39735a2ea1db"
      },
      "execution_count": 16,
      "outputs": [
        {
          "output_type": "stream",
          "name": "stdout",
          "text": [
            "{'loss': 0.018745819106698036, 'accuracy': 0.9866666793823242}\n"
          ]
        }
      ]
    }
  ]
}